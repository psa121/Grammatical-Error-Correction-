{
  "nbformat": 4,
  "nbformat_minor": 0,
  "metadata": {
    "colab": {
      "name": "Untitled5.ipynb",
      "provenance": []
    },
    "kernelspec": {
      "name": "python3",
      "display_name": "Python 3"
    },
    "language_info": {
      "name": "python"
    }
  },
  "cells": [
    {
      "cell_type": "code",
      "source": [
        "from gramformer import Gramformer"
      ],
      "metadata": {
        "id": "gW34xeBciS7M"
      },
      "execution_count": 39,
      "outputs": []
    },
    {
      "cell_type": "code",
      "source": [
        "import torch\n"
      ],
      "metadata": {
        "id": "MSNENaR5iV1p"
      },
      "execution_count": 40,
      "outputs": []
    },
    {
      "cell_type": "code",
      "source": [
        "def set_seed(seed):\n",
        "  torch.manual_seed(seed)\n",
        "  if torch.cuda.is_available():\n",
        "    torch.cuda.manual_seed_all(seed)\n",
        "\n",
        "set_seed(1212)"
      ],
      "metadata": {
        "id": "nmsUBKD5iZ5c"
      },
      "execution_count": 41,
      "outputs": []
    },
    {
      "cell_type": "code",
      "source": [
        "gf = Gramformer(models = 1, use_gpu=False) "
      ],
      "metadata": {
        "colab": {
          "base_uri": "https://localhost:8080/"
        },
        "id": "IBGZQD7_ifK2",
        "outputId": "2e0e9f70-97de-410c-c950-31c940587186"
      },
      "execution_count": 42,
      "outputs": [
        {
          "output_type": "stream",
          "name": "stdout",
          "text": [
            "[Gramformer] Grammar error correct/highlight model loaded..\n"
          ]
        }
      ]
    },
    {
      "cell_type": "code",
      "source": [
        "Incorrect_Sentences  = [\n",
        "                        \"She see Tom is catched by policeman in park at last night.\",\n",
        "                        ]   "
      ],
      "metadata": {
        "id": "6HLAXHQJivs2"
      },
      "execution_count": 60,
      "outputs": []
    },
    {
      "cell_type": "code",
      "source": [
        "\n",
        "for Incorrect_Sentence in Incorrect_Sentences:\n",
        "    corrected_sentences = gf.correct(Incorrect_Sentence, max_candidates=1)\n",
        "    print(\"[Input] \", Incorrect_Sentence)\n",
        "    for corrected_sentence in corrected_sentences:\n",
        "      print(\"[Correction] \",corrected_sentence)\n",
        "    print(\"-\" *100)"
      ],
      "metadata": {
        "colab": {
          "base_uri": "https://localhost:8080/"
        },
        "id": "V-6XI_7Ci038",
        "outputId": "1474b4f2-6a36-4190-eb00-a372b5c9fb90"
      },
      "execution_count": 61,
      "outputs": [
        {
          "output_type": "stream",
          "name": "stdout",
          "text": [
            "[Input]  She see Tom is catched by policeman in park at last night.\n",
            "[Correction]  She saw Tom being catched by a policeman in a park last night.\n",
            "----------------------------------------------------------------------------------------------------\n"
          ]
        }
      ]
    }
  ]
}